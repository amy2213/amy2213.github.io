{
  "cells": [
    {
      "cell_type": "markdown",
      "metadata": {
        "id": "view-in-github",
        "colab_type": "text"
      },
      "source": [
        "<a href=\"https://colab.research.google.com/github/amy2213/amy2213.github.io/blob/main/Give_me_an_example_of_dictionary_comprehension_in_.ipynb\" target=\"_parent\"><img src=\"https://colab.research.google.com/assets/colab-badge.svg\" alt=\"Open In Colab\"/></a>"
      ]
    },
    {
      "cell_type": "markdown",
      "source": [
        "Absolutely! Here's a breakdown of dictionary comprehension in Python, along with illustrative examples:\n",
        "\n",
        "**What is Dictionary Comprehension?**\n",
        "\n",
        "Dictionary comprehension is a concise and elegant way to create dictionaries in Python. It's a one-liner expression that allows you to build dictionaries from existing iterables (like lists, tuples, or other dictionaries) or by applying transformations to data.\n",
        "\n",
        "**Syntax**"
      ],
      "metadata": {
        "id": "wCe9SqrDFBTa"
      }
    },
    {
      "cell_type": "code",
      "source": [
        "{key_expression: value_expression for item in iterable if condition}"
      ],
      "outputs": [],
      "execution_count": null,
      "metadata": {
        "id": "wrXhbm26FBTd"
      }
    },
    {
      "cell_type": "markdown",
      "source": [
        "* `key_expression`: Defines how to generate the key for each dictionary entry.\n",
        "* `value_expression`: Defines how to generate the value for each dictionary entry.\n",
        "* `item`: The current item being iterated over.\n",
        "* `iterable`: The sequence of items you want to process.\n",
        "* `condition` (optional): A filtering condition; include the item only if the condition is True.\n",
        "\n",
        "**Examples**\n",
        "\n",
        "**1. Squaring Numbers**"
      ],
      "metadata": {
        "id": "WYZF6t3uFBTe"
      }
    },
    {
      "cell_type": "code",
      "source": [
        "numbers = [1, 2, 3, 4, 5]\n",
        "squares = {num: num**2 for num in numbers}\n",
        "print(squares)  # Output: {1: 1, 2: 4, 3: 9, 4: 16, 5: 25}"
      ],
      "outputs": [],
      "execution_count": null,
      "metadata": {
        "id": "VJLm6EAzFBTe"
      }
    },
    {
      "cell_type": "markdown",
      "source": [
        "**Explanation:** This creates a dictionary where the keys are the original numbers and the values are their squares.\n",
        "\n",
        "**2. Mapping Words to Lengths**"
      ],
      "metadata": {
        "id": "c_HyEASUFBTf"
      }
    },
    {
      "cell_type": "code",
      "source": [
        "words = [\"apple\", \"banana\", \"cherry\"]\n",
        "word_lengths = {word: len(word) for word in words}\n",
        "print(word_lengths)  # Output: {'apple': 5, 'banana': 6, 'cherry': 6}"
      ],
      "outputs": [],
      "execution_count": null,
      "metadata": {
        "id": "6yVkbnIRFBTf"
      }
    },
    {
      "cell_type": "markdown",
      "source": [
        "**Explanation:**  This dictionary maps each word to its length.\n",
        "\n",
        "**3. Filtering Based on Conditions**"
      ],
      "metadata": {
        "id": "Qs0pVn_cFBTf"
      }
    },
    {
      "cell_type": "code",
      "source": [
        "numbers = range(1, 11)  # Numbers from 1 to 10\n",
        "even_squares = {num: num**2 for num in numbers if num % 2 == 0}\n",
        "print(even_squares)  # Output: {2: 4, 4: 16, 6: 36, 8: 64, 10: 100}"
      ],
      "outputs": [],
      "execution_count": null,
      "metadata": {
        "id": "L0hSwAfwFBTg"
      }
    },
    {
      "cell_type": "markdown",
      "source": [
        "**Explanation:** This generates a dictionary of squares only for even numbers.\n",
        "\n",
        "**4. Working with Tuples**"
      ],
      "metadata": {
        "id": "D297ltiCFBTg"
      }
    },
    {
      "cell_type": "code",
      "source": [
        "cities = [(\"New York\", \"USA\"), (\"London\", \"UK\"), (\"Tokyo\", \"Japan\")]\n",
        "city_country = {city: country for city, country in cities}\n",
        "print(city_country)  # Output: {'New York': 'USA', 'London': 'UK', 'Tokyo': 'Japan'}"
      ],
      "outputs": [],
      "execution_count": null,
      "metadata": {
        "id": "QvrxnlueFBTg"
      }
    },
    {
      "cell_type": "markdown",
      "source": [
        "**Explanation:** This extracts city and country data from tuples and creates a corresponding dictionary.\n",
        "\n",
        "**5. Combining Dictionaries**"
      ],
      "metadata": {
        "id": "dJornY2nFBTg"
      }
    },
    {
      "cell_type": "code",
      "source": [
        "dict1 = {'a': 1, 'b': 2}\n",
        "dict2 = {'c': 3, 'd': 4}\n",
        "combined_dict = {k: v for d in (dict1, dict2) for k, v in d.items()}\n",
        "print(combined_dict)  # Output: {'a': 1, 'b': 2, 'c': 3, 'd': 4}"
      ],
      "outputs": [],
      "execution_count": null,
      "metadata": {
        "id": "kJnRl4RWFBTh"
      }
    },
    {
      "cell_type": "markdown",
      "source": [
        "**Explanation:** This merges two dictionaries into one.\n",
        "\n",
        "\n",
        "**Key Advantages**\n",
        "\n",
        "* **Conciseness:** Dictionary comprehensions often lead to shorter, more readable code.\n",
        "* **Efficiency:** They can be faster than traditional loop-based dictionary creation methods.\n",
        "* **Expressiveness:** They clearly convey the logic for generating dictionary elements.\n",
        "\n",
        "Let me know if you'd like to explore more advanced examples or have any other questions!"
      ],
      "metadata": {
        "id": "5P60PukCFBTh"
      }
    }
  ],
  "metadata": {
    "colab": {
      "provenance": [],
      "include_colab_link": true
    },
    "kernelspec": {
      "display_name": "Python 3",
      "name": "python3"
    }
  },
  "nbformat": 4,
  "nbformat_minor": 0
}